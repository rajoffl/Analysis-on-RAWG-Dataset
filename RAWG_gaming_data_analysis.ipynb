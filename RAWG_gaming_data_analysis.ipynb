{
 "cells": [
  {
   "cell_type": "markdown",
   "id": "21490f7c",
   "metadata": {},
   "source": [
    "# RAWG Spark Video Game Analysis "
   ]
  },
  {
   "cell_type": "code",
   "execution_count": 1,
   "id": "30456c20",
   "metadata": {},
   "outputs": [],
   "source": [
    "# Set the Required Spark path\n",
    "import findspark\n",
    "findspark.init()"
   ]
  },
  {
   "cell_type": "code",
   "execution_count": 2,
   "id": "dea026c8",
   "metadata": {},
   "outputs": [],
   "source": [
    "# Importing required libraries from pyspark.sql\n",
    "from pyspark.sql import SparkSession\n",
    "from pyspark.sql.functions import to_utc_timestamp, date_format, split, col, round, explode"
   ]
  },
  {
   "cell_type": "code",
   "execution_count": 3,
   "id": "0460f95e",
   "metadata": {},
   "outputs": [],
   "source": [
    "# creating spark session\n",
    "spark = SparkSession.builder.appName(\"app\").getOrCreate()\n",
    "# creating spark context\n",
    "sc = spark.sparkContext"
   ]
  },
  {
   "cell_type": "code",
   "execution_count": 4,
   "id": "845cfce8",
   "metadata": {},
   "outputs": [],
   "source": [
    "# locate the csv path \n",
    "pathToRead = r\"C:\\Users\\Sailash\\Desktop\\revature\\Practise\\game_info.csv\""
   ]
  },
  {
   "cell_type": "code",
   "execution_count": 5,
   "id": "e00cb046",
   "metadata": {},
   "outputs": [],
   "source": [
    "# creating data frame from csv\n",
    "raw_df = spark.read.csv(pathToRead,header=True,inferSchema=True)"
   ]
  },
  {
   "cell_type": "code",
   "execution_count": 6,
   "id": "6fb10fbb",
   "metadata": {},
   "outputs": [
    {
     "name": "stdout",
     "output_type": "stream",
     "text": [
      "root\n",
      " |-- id: string (nullable = true)\n",
      " |-- slug: string (nullable = true)\n",
      " |-- name: string (nullable = true)\n",
      " |-- metacritic: string (nullable = true)\n",
      " |-- released: string (nullable = true)\n",
      " |-- tba: string (nullable = true)\n",
      " |-- updated: string (nullable = true)\n",
      " |-- website: string (nullable = true)\n",
      " |-- rating: string (nullable = true)\n",
      " |-- rating_top: double (nullable = true)\n",
      " |-- playtime: double (nullable = true)\n",
      " |-- achievements_count: integer (nullable = true)\n",
      " |-- ratings_count: integer (nullable = true)\n",
      " |-- suggestions_count: integer (nullable = true)\n",
      " |-- game_series_count: integer (nullable = true)\n",
      " |-- reviews_count: integer (nullable = true)\n",
      " |-- platforms: string (nullable = true)\n",
      " |-- developers: string (nullable = true)\n",
      " |-- genres: string (nullable = true)\n",
      " |-- publishers: string (nullable = true)\n",
      " |-- esrb_rating: string (nullable = true)\n",
      " |-- added_status_yet: string (nullable = true)\n",
      " |-- added_status_owned: integer (nullable = true)\n",
      " |-- added_status_beaten: integer (nullable = true)\n",
      " |-- added_status_toplay: integer (nullable = true)\n",
      " |-- added_status_dropped: integer (nullable = true)\n",
      " |-- added_status_playing: integer (nullable = true)\n",
      "\n"
     ]
    }
   ],
   "source": [
    "# printing the schema\n",
    "raw_df.printSchema()"
   ]
  },
  {
   "cell_type": "code",
   "execution_count": 7,
   "id": "ffee5a3e",
   "metadata": {
    "scrolled": false
   },
   "outputs": [],
   "source": [
    "# spliting arrays from string and creating new data frame\n",
    "df = raw_df.select(\n",
    "    raw_df[\"id\"],\n",
    "    raw_df[\"slug\"],\n",
    "    raw_df[\"name\"],\n",
    "    raw_df[\"metacritic\"],\n",
    "    raw_df[\"released\"],\n",
    "    raw_df[\"tba\"],\n",
    "    raw_df[\"updated\"],\n",
    "    raw_df[\"website\"],\n",
    "    raw_df[\"rating\"],\n",
    "    raw_df[\"rating_top\"],\n",
    "    raw_df[\"playtime\"],\n",
    "    raw_df[\"achievements_count\"],\n",
    "    raw_df[\"ratings_count\"],\n",
    "    raw_df[\"suggestions_count\"],\n",
    "    raw_df[\"game_series_count\"],\n",
    "    raw_df[\"reviews_count\"],\n",
    "    split(col(\"platforms\"), \"\\|\\|\").alias(\"platforms\"),\n",
    "    split(col(\"developers\"), \"\\|\\|\").alias(\"developers\"),\n",
    "    split(col(\"genres\"), \"\\|\\|\").alias(\"genres\"),\n",
    "    split(col(\"publishers\"), \"\\|\\|\").alias(\"publishers\"),\n",
    "    raw_df[\"esrb_rating\"],\n",
    "    raw_df[\"added_status_yet\"],\n",
    "    raw_df[\"added_status_owned\"],\n",
    "    raw_df[\"added_status_beaten\"],\n",
    "    raw_df[\"added_status_toplay\"],\n",
    "    raw_df[\"added_status_dropped\"],\n",
    "    raw_df[\"added_status_playing\"],\n",
    ")"
   ]
  },
  {
   "cell_type": "code",
   "execution_count": 8,
   "id": "64ca1672",
   "metadata": {},
   "outputs": [
    {
     "name": "stdout",
     "output_type": "stream",
     "text": [
      "root\n",
      " |-- id: string (nullable = true)\n",
      " |-- slug: string (nullable = true)\n",
      " |-- name: string (nullable = true)\n",
      " |-- metacritic: string (nullable = true)\n",
      " |-- released: string (nullable = true)\n",
      " |-- tba: string (nullable = true)\n",
      " |-- updated: string (nullable = true)\n",
      " |-- website: string (nullable = true)\n",
      " |-- rating: string (nullable = true)\n",
      " |-- rating_top: double (nullable = true)\n",
      " |-- playtime: double (nullable = true)\n",
      " |-- achievements_count: integer (nullable = true)\n",
      " |-- ratings_count: integer (nullable = true)\n",
      " |-- suggestions_count: integer (nullable = true)\n",
      " |-- game_series_count: integer (nullable = true)\n",
      " |-- reviews_count: integer (nullable = true)\n",
      " |-- platforms: array (nullable = true)\n",
      " |    |-- element: string (containsNull = true)\n",
      " |-- developers: array (nullable = true)\n",
      " |    |-- element: string (containsNull = true)\n",
      " |-- genres: array (nullable = true)\n",
      " |    |-- element: string (containsNull = true)\n",
      " |-- publishers: array (nullable = true)\n",
      " |    |-- element: string (containsNull = true)\n",
      " |-- esrb_rating: string (nullable = true)\n",
      " |-- added_status_yet: string (nullable = true)\n",
      " |-- added_status_owned: integer (nullable = true)\n",
      " |-- added_status_beaten: integer (nullable = true)\n",
      " |-- added_status_toplay: integer (nullable = true)\n",
      " |-- added_status_dropped: integer (nullable = true)\n",
      " |-- added_status_playing: integer (nullable = true)\n",
      "\n"
     ]
    }
   ],
   "source": [
    "# printing the schema\n",
    "df.printSchema()"
   ]
  },
  {
   "cell_type": "code",
   "execution_count": 9,
   "id": "acc4da0f",
   "metadata": {},
   "outputs": [
    {
     "data": {
      "text/plain": [
       "[Row(id='1', slug='dgeneration-hd', name='D/Generation HD', metacritic=None, released='2015-10-23', tba='False', updated='2019-09-17T11:58:57', website='http://dgeneration.net', rating='0.0', rating_top=0.0, playtime=1.0, achievements_count=80, ratings_count=2, suggestions_count=292, game_series_count=0, reviews_count=4, platforms=['PC', 'macOS', 'Xbox One', 'PlayStation 4', 'Nintendo Switch'], developers=['West Coast Software'], genres=['Adventure', 'Puzzle'], publishers=['West Coast Software'], esrb_rating='Everyone 10+', added_status_yet='4', added_status_owned=88, added_status_beaten=2, added_status_toplay=2, added_status_dropped=0, added_status_playing=0)]"
      ]
     },
     "execution_count": 9,
     "metadata": {},
     "output_type": "execute_result"
    }
   ],
   "source": [
    "# Example Data\n",
    "df.head(1)"
   ]
  },
  {
   "cell_type": "code",
   "execution_count": 10,
   "id": "8ca712b5",
   "metadata": {},
   "outputs": [
    {
     "data": {
      "text/plain": [
       "474419"
      ]
     },
     "execution_count": 10,
     "metadata": {},
     "output_type": "execute_result"
    }
   ],
   "source": [
    "# Total Number Of Data \n",
    "df.count()"
   ]
  },
  {
   "cell_type": "markdown",
   "id": "77ad6dad",
   "metadata": {},
   "source": [
    "# Which is the topmost rated games for each platform"
   ]
  },
  {
   "cell_type": "code",
   "execution_count": 11,
   "id": "647823d6",
   "metadata": {
    "scrolled": true
   },
   "outputs": [],
   "source": [
    "# selecting required columns from df\n",
    "game_df = df.select(\n",
    "    df[\"name\"], \n",
    "    df[\"released\"], \n",
    "    explode(\"platforms\").alias(\"platform\"), \n",
    "    df[\"rating\"], \n",
    "    df[\"rating_top\"], \n",
    "    df[\"ratings_count\"], \n",
    "    df[\"playtime\"]\n",
    ")"
   ]
  },
  {
   "cell_type": "code",
   "execution_count": 12,
   "id": "d7f311c7",
   "metadata": {},
   "outputs": [
    {
     "name": "stdout",
     "output_type": "stream",
     "text": [
      "root\n",
      " |-- name: string (nullable = true)\n",
      " |-- released: string (nullable = true)\n",
      " |-- platform: string (nullable = true)\n",
      " |-- rating: string (nullable = true)\n",
      " |-- rating_top: double (nullable = true)\n",
      " |-- ratings_count: integer (nullable = true)\n",
      " |-- playtime: double (nullable = true)\n",
      "\n"
     ]
    }
   ],
   "source": [
    "# most rated games for each platform data frame's schema  \n",
    "game_df.printSchema()"
   ]
  },
  {
   "cell_type": "code",
   "execution_count": 13,
   "id": "6058260f",
   "metadata": {},
   "outputs": [],
   "source": [
    "# creating temp table\n",
    "game_df.createOrReplaceTempView(\"filtered_games\")"
   ]
  },
  {
   "cell_type": "code",
   "execution_count": 14,
   "id": "cf742302",
   "metadata": {},
   "outputs": [
    {
     "name": "stdout",
     "output_type": "stream",
     "text": [
      "+---------------+----------+--------+------+----------+-------------+--------+\n",
      "|name           |released  |platform|rating|rating_top|ratings_count|playtime|\n",
      "+---------------+----------+--------+------+----------+-------------+--------+\n",
      "|D/Generation HD|2015-10-23|PC      |0.0   |0.0       |2            |1.0     |\n",
      "+---------------+----------+--------+------+----------+-------------+--------+\n",
      "\n"
     ]
    }
   ],
   "source": [
    "# Example Data\n",
    "spark.sql(\"select * from filtered_games limit 1\").show(truncate=False)"
   ]
  },
  {
   "cell_type": "code",
   "execution_count": 15,
   "id": "fccfd750",
   "metadata": {},
   "outputs": [
    {
     "name": "stdout",
     "output_type": "stream",
     "text": [
      "+---------------------------------+------+----------------+\n",
      "|name                             |rating|platform        |\n",
      "+---------------------------------+------+----------------+\n",
      "|D/Generation HD                  |5.0   |Xbox One        |\n",
      "|D/Generation HD                  |5.0   |PlayStation 4   |\n",
      "|D/Generation HD                  |5.0   |PC              |\n",
      "|Land Sliders                     |4.86  |iOS             |\n",
      "|Tron 2.0                         |4.83  |Game Boy Advance|\n",
      "|Gobbo goes adventure             |4.83  |Android         |\n",
      "|Red Entity                       |4.78  |Linux           |\n",
      "|Royal Defense Ultimate Collection|4.78  |PS Vita         |\n",
      "|Kane and Lynch: Dead Men         |4.78  |PlayStation 3   |\n",
      "|D/Generation HD                  |4.78  |Nintendo Switch |\n",
      "|Runbow                           |4.78  |Wii U           |\n",
      "|D/Generation HD                  |4.78  |macOS           |\n",
      "|The Keep                         |4.78  |Nintendo 3DS    |\n",
      "|Hogwarts Legacy                  |4.73  |Xbox Series S/X |\n",
      "|Maximum Override                 |4.73  |PlayStation 5   |\n",
      "|Kane and Lynch: Dead Men         |4.73  |Xbox 360        |\n",
      "|Destroy All Humans!              |4.71  |Wii             |\n",
      "|FINAL FANTASY VI                 |4.71  |SNES            |\n",
      "|FINAL FANTASY VI                 |4.71  |PlayStation     |\n",
      "|Legacy of Kain: Defiance         |4.67  |Xbox            |\n",
      "+---------------------------------+------+----------------+\n",
      "only showing top 20 rows\n",
      "\n"
     ]
    }
   ],
   "source": [
    "# geting the top rated game accross all platform\n",
    "spark.sql(\"\"\"\n",
    "    select name, rating, platform from (\n",
    "    select row_number() over(partition by platform order by platform) as num,\n",
    "    name,\n",
    "    platform,\n",
    "    max(rating) over (partition by platform) as rating\n",
    "    from filtered_games\n",
    "    where platform != '0'\n",
    "    order by rating desc) as table\n",
    "    where num = 1\n",
    "    \"\"\"\n",
    ").show(truncate=False)"
   ]
  },
  {
   "cell_type": "markdown",
   "id": "b85093db",
   "metadata": {},
   "source": [
    "# Which game developers have released most games"
   ]
  },
  {
   "cell_type": "code",
   "execution_count": 16,
   "id": "be532cec",
   "metadata": {},
   "outputs": [],
   "source": [
    "# select the required columns and expand the arrays\n",
    "dev_df = df.select(\n",
    "    df[\"name\"], \n",
    "    explode(\"developers\").alias(\"developer\")\n",
    ")"
   ]
  },
  {
   "cell_type": "code",
   "execution_count": 17,
   "id": "a64f325a",
   "metadata": {},
   "outputs": [
    {
     "name": "stdout",
     "output_type": "stream",
     "text": [
      "root\n",
      " |-- name: string (nullable = true)\n",
      " |-- developer: string (nullable = true)\n",
      "\n"
     ]
    }
   ],
   "source": [
    "# game developers data frame's schema\n",
    "dev_df.printSchema()"
   ]
  },
  {
   "cell_type": "code",
   "execution_count": 18,
   "id": "8a01e31a",
   "metadata": {},
   "outputs": [],
   "source": [
    "# creating temp table\n",
    "dev_df.createOrReplaceTempView(\"filtered_developers\")"
   ]
  },
  {
   "cell_type": "code",
   "execution_count": 19,
   "id": "319507e9",
   "metadata": {},
   "outputs": [
    {
     "name": "stdout",
     "output_type": "stream",
     "text": [
      "+---------------------+--------------------+\n",
      "|name                 |developer           |\n",
      "+---------------------+--------------------+\n",
      "|D/Generation HD      |West Coast Software |\n",
      "|G Prime Into The Rain|Soma Games          |\n",
      "|Land Sliders         |Prettygreat Pty     |\n",
      "|Pixel Gear           |Oasis Games         |\n",
      "|Pixel Gear           |Geronimo Interactive|\n",
      "+---------------------+--------------------+\n",
      "\n"
     ]
    }
   ],
   "source": [
    "# Example Data\n",
    "spark.sql(\"select * from filtered_developers limit 5\").show(truncate=False)"
   ]
  },
  {
   "cell_type": "code",
   "execution_count": 20,
   "id": "bb701a6f",
   "metadata": {},
   "outputs": [
    {
     "name": "stdout",
     "output_type": "stream",
     "text": [
      "+------------------------------+-----+\n",
      "|developer                     |games|\n",
      "+------------------------------+-----+\n",
      "|Sony Interactive Entertainment|647  |\n",
      "|SEGA                          |513  |\n",
      "|Konami Digital Entertainment  |415  |\n",
      "|Nintendo                      |395  |\n",
      "|Capcom                        |395  |\n",
      "|Big Fish Games                |380  |\n",
      "|Electronic Arts               |316  |\n",
      "|Ubisoft                       |299  |\n",
      "|Square Enix                   |295  |\n",
      "|Robert Brooks                 |239  |\n",
      "+------------------------------+-----+\n",
      "\n"
     ]
    }
   ],
   "source": [
    "# display most game released by developers\n",
    "spark.sql(\"\"\"\n",
    "    select developer, \n",
    "    count(name) as games \n",
    "    from filtered_developers\n",
    "    group by developer\n",
    "    order by games desc \n",
    "    limit 10\n",
    "\"\"\").show(truncate=False)"
   ]
  },
  {
   "cell_type": "markdown",
   "id": "b3f7b05c",
   "metadata": {},
   "source": [
    "# Which game genre has the most games"
   ]
  },
  {
   "cell_type": "code",
   "execution_count": 21,
   "id": "390f18a2",
   "metadata": {},
   "outputs": [],
   "source": [
    "# select the required columns and expand the arrays\n",
    "genres_df = df.select(\n",
    "    df[\"name\"], \n",
    "    explode(\"genres\").alias(\"genre\")\n",
    ")"
   ]
  },
  {
   "cell_type": "code",
   "execution_count": 22,
   "id": "c89fad1d",
   "metadata": {},
   "outputs": [
    {
     "name": "stdout",
     "output_type": "stream",
     "text": [
      "root\n",
      " |-- name: string (nullable = true)\n",
      " |-- genre: string (nullable = true)\n",
      "\n"
     ]
    }
   ],
   "source": [
    "# game gener data frame's schema\n",
    "genres_df.printSchema()"
   ]
  },
  {
   "cell_type": "code",
   "execution_count": 23,
   "id": "f512221c",
   "metadata": {},
   "outputs": [],
   "source": [
    "# creating temp table\n",
    "genres_df.createOrReplaceTempView(\"filtered_genres\")"
   ]
  },
  {
   "cell_type": "code",
   "execution_count": 24,
   "id": "80a6fcd0",
   "metadata": {},
   "outputs": [
    {
     "name": "stdout",
     "output_type": "stream",
     "text": [
      "+---------------------+----------+\n",
      "|name                 |genre     |\n",
      "+---------------------+----------+\n",
      "|D/Generation HD      |Adventure |\n",
      "|D/Generation HD      |Puzzle    |\n",
      "|G Prime Into The Rain|Simulation|\n",
      "|G Prime Into The Rain|Indie     |\n",
      "|Land Sliders         |Adventure |\n",
      "+---------------------+----------+\n",
      "\n"
     ]
    }
   ],
   "source": [
    "# Example Data\n",
    "spark.sql(\"select * from filtered_genres limit 5\").show(truncate=False)"
   ]
  },
  {
   "cell_type": "code",
   "execution_count": 25,
   "id": "d1651589",
   "metadata": {},
   "outputs": [
    {
     "name": "stdout",
     "output_type": "stream",
     "text": [
      "+----------+------+\n",
      "|     genre| count|\n",
      "+----------+------+\n",
      "|    Action|102023|\n",
      "| Adventure| 72209|\n",
      "|    Puzzle| 55550|\n",
      "|Platformer| 48252|\n",
      "|Simulation| 40719|\n",
      "|     Indie| 33155|\n",
      "|  Strategy| 33050|\n",
      "|       RPG| 31947|\n",
      "|   Shooter| 31822|\n",
      "|    Casual| 28367|\n",
      "+----------+------+\n",
      "\n"
     ]
    }
   ],
   "source": [
    "# display most game released by genres\n",
    "spark.sql(\"\"\"\n",
    "    select genre,\n",
    "    count(name) as count \n",
    "    from filtered_genres \n",
    "    group by genre \n",
    "    order by count desc \n",
    "    limit 10\n",
    "\"\"\").show()"
   ]
  },
  {
   "cell_type": "markdown",
   "id": "547c5d1c",
   "metadata": {},
   "source": [
    "# Number of games released per year"
   ]
  },
  {
   "cell_type": "code",
   "execution_count": 26,
   "id": "f78bda56",
   "metadata": {},
   "outputs": [],
   "source": [
    "# convert date in string type into date type and create new data frame \n",
    "game_date_df = df.select(\n",
    "    df[\"name\"], \n",
    "    df[\"released\"]\n",
    ")"
   ]
  },
  {
   "cell_type": "code",
   "execution_count": 27,
   "id": "baa586bb",
   "metadata": {},
   "outputs": [
    {
     "name": "stdout",
     "output_type": "stream",
     "text": [
      "root\n",
      " |-- name: string (nullable = true)\n",
      " |-- released: string (nullable = true)\n",
      "\n"
     ]
    }
   ],
   "source": [
    "# max number of games released by years data frame's schema\n",
    "game_date_df.printSchema()"
   ]
  },
  {
   "cell_type": "code",
   "execution_count": 28,
   "id": "6641946b",
   "metadata": {},
   "outputs": [],
   "source": [
    "# creating temp table\n",
    "game_date_df.createOrReplaceTempView(\"release_date\")"
   ]
  },
  {
   "cell_type": "code",
   "execution_count": 29,
   "id": "fa6c71c5",
   "metadata": {},
   "outputs": [
    {
     "name": "stdout",
     "output_type": "stream",
     "text": [
      "+---------------+----------+\n",
      "|name           |released  |\n",
      "+---------------+----------+\n",
      "|D/Generation HD|2015-10-23|\n",
      "+---------------+----------+\n",
      "\n"
     ]
    }
   ],
   "source": [
    "# Example Data\n",
    "spark.sql(\"select * from release_date limit 1\").show(truncate=False)"
   ]
  },
  {
   "cell_type": "code",
   "execution_count": 30,
   "id": "26c39d43",
   "metadata": {},
   "outputs": [
    {
     "name": "stdout",
     "output_type": "stream",
     "text": [
      "+----+----------+\n",
      "|year|game_count|\n",
      "+----+----------+\n",
      "|2020|118507    |\n",
      "|2019|79170     |\n",
      "|2018|71177     |\n",
      "|2017|56193     |\n",
      "|2016|41074     |\n",
      "|2015|26239     |\n",
      "|2014|15450     |\n",
      "|2013|6228      |\n",
      "|2012|5268      |\n",
      "|2011|4215      |\n",
      "|2010|3785      |\n",
      "|2009|3009      |\n",
      "|2008|1940      |\n",
      "|2007|1483      |\n",
      "|2006|1196      |\n",
      "|2004|1082      |\n",
      "|2005|1078      |\n",
      "|2003|1066      |\n",
      "|2001|1060      |\n",
      "|2002|936       |\n",
      "+----+----------+\n",
      "only showing top 20 rows\n",
      "\n"
     ]
    }
   ],
   "source": [
    "# display the most number of game released per year\n",
    "spark.sql(\"\"\"\n",
    "    select YEAR(released) as year, \n",
    "    count(name) as game_count \n",
    "    from release_date \n",
    "    group by year\n",
    "    having year is not null \n",
    "    order by game_count desc\n",
    "\"\"\").show(truncate=False)"
   ]
  },
  {
   "cell_type": "markdown",
   "id": "2d20a10e",
   "metadata": {},
   "source": [
    "# Games with longest updation time"
   ]
  },
  {
   "cell_type": "code",
   "execution_count": 31,
   "id": "f08c57a5",
   "metadata": {},
   "outputs": [],
   "source": [
    "# convert string type date into date type\n",
    "release_update_df = df.select(\n",
    "    df[\"name\"],\n",
    "    to_utc_timestamp(date_format(col(\"released\"), \"yyy-MM-dd\"), \"UTC\").alias(\"released\"), \n",
    "    to_utc_timestamp(date_format(col(\"updated\"), \"yyy-MM-dd\"), \"UTC\").alias(\"updated\"),\n",
    ")"
   ]
  },
  {
   "cell_type": "code",
   "execution_count": 32,
   "id": "c6cc5a69",
   "metadata": {},
   "outputs": [],
   "source": [
    "# convert into unix epoch and find the difference and convert into days\n",
    "diff_secs_col = release_update_df[\"updated\"].cast(\"long\") - release_update_df[\"released\"].cast(\"long\")\n",
    "update_df = release_update_df.withColumn(\"days\", round(diff_secs_col / 86400, 2))"
   ]
  },
  {
   "cell_type": "code",
   "execution_count": 33,
   "id": "4775974e",
   "metadata": {},
   "outputs": [
    {
     "name": "stdout",
     "output_type": "stream",
     "text": [
      "root\n",
      " |-- name: string (nullable = true)\n",
      " |-- released: timestamp (nullable = true)\n",
      " |-- updated: timestamp (nullable = true)\n",
      " |-- days: double (nullable = true)\n",
      "\n"
     ]
    }
   ],
   "source": [
    "# game release and update difference data frame's schema\n",
    "update_df.printSchema()"
   ]
  },
  {
   "cell_type": "code",
   "execution_count": 34,
   "id": "bce83c2d",
   "metadata": {},
   "outputs": [],
   "source": [
    "# creating temp table\n",
    "update_df.createOrReplaceTempView(\"first_update\")"
   ]
  },
  {
   "cell_type": "code",
   "execution_count": 35,
   "id": "b8effb64",
   "metadata": {},
   "outputs": [
    {
     "name": "stdout",
     "output_type": "stream",
     "text": [
      "+---------------+-------------------+-------------------+------+\n",
      "|name           |released           |updated            |days  |\n",
      "+---------------+-------------------+-------------------+------+\n",
      "|D/Generation HD|2015-10-23 00:00:00|2019-09-17 00:00:00|1425.0|\n",
      "+---------------+-------------------+-------------------+------+\n",
      "\n"
     ]
    }
   ],
   "source": [
    "# Example Data\n",
    "spark.sql(\"select * from first_update limit 1\").show(truncate=False)"
   ]
  },
  {
   "cell_type": "code",
   "execution_count": 36,
   "id": "8410d989",
   "metadata": {},
   "outputs": [
    {
     "name": "stdout",
     "output_type": "stream",
     "text": [
      "+-----------------------+-------------------+-------------------+-------+\n",
      "|name                   |released           |updated            |days   |\n",
      "+-----------------------+-------------------+-------------------+-------+\n",
      "|Spacewar!              |1962-01-01 00:00:00|2019-01-09 00:00:00|20827.0|\n",
      "|ΖευςΟφΘεΚροως          |1970-01-01 00:00:00|2019-10-05 00:00:00|18174.0|\n",
      "|Star Trek (1971)       |1971-01-01 00:00:00|2020-04-05 00:00:00|17992.0|\n",
      "|Empire                 |1971-01-01 00:00:00|2019-08-28 00:00:00|17771.0|\n",
      "|The Oregon Trail (1971)|1971-01-01 00:00:00|2019-08-28 00:00:00|17771.0|\n",
      "|Pong (1972)            |1972-01-01 00:00:00|2020-05-25 00:00:00|17677.0|\n",
      "|Computer Space         |1971-01-11 00:00:00|2019-01-09 00:00:00|17530.0|\n",
      "|Galaxy Game            |1971-01-11 00:00:00|2019-01-09 00:00:00|17530.0|\n",
      "|Gotcha                 |1973-10-01 00:00:00|2020-05-04 00:00:00|17017.0|\n",
      "|Star Trader            |1974-01-01 00:00:00|2019-01-09 00:00:00|16444.0|\n",
      "|Steeplechase           |1975-01-01 00:00:00|2019-01-09 00:00:00|16079.0|\n",
      "|dnd                    |1975-01-01 00:00:00|2019-01-09 00:00:00|16079.0|\n",
      "|Breakout (1976)        |1976-01-01 00:00:00|2019-08-28 00:00:00|15945.0|\n",
      "|Colossal Cave Adventure|1976-01-01 00:00:00|2019-08-28 00:00:00|15945.0|\n",
      "|Fonz                   |1976-02-01 00:00:00|2019-08-28 00:00:00|15914.0|\n",
      "|Boot Hill              |1977-01-01 00:00:00|2020-05-25 00:00:00|15850.0|\n",
      "|Blockade               |1976-01-01 00:00:00|2019-01-09 00:00:00|15714.0|\n",
      "|Outlaw                 |1976-01-01 00:00:00|2019-01-09 00:00:00|15714.0|\n",
      "|Sea Wolf               |1976-01-01 00:00:00|2019-01-09 00:00:00|15714.0|\n",
      "|Night Driver           |1976-10-01 00:00:00|2019-08-28 00:00:00|15671.0|\n",
      "+-----------------------+-------------------+-------------------+-------+\n",
      "only showing top 20 rows\n",
      "\n"
     ]
    }
   ],
   "source": [
    "# display the update difference\n",
    "spark.sql(\"\"\"\n",
    "    select name, \n",
    "    released, \n",
    "    updated, \n",
    "    days \n",
    "    from first_update \n",
    "    where days is not null and days >= 0\n",
    "    order by days desc, name\n",
    "\"\"\").show(truncate=False)"
   ]
  },
  {
   "cell_type": "code",
   "execution_count": null,
   "id": "f875c286",
   "metadata": {},
   "outputs": [],
   "source": []
  }
 ],
 "metadata": {
  "kernelspec": {
   "display_name": "Python 3",
   "language": "python",
   "name": "python3"
  },
  "language_info": {
   "codemirror_mode": {
    "name": "ipython",
    "version": 3
   },
   "file_extension": ".py",
   "mimetype": "text/x-python",
   "name": "python",
   "nbconvert_exporter": "python",
   "pygments_lexer": "ipython3",
   "version": "3.8.8"
  }
 },
 "nbformat": 4,
 "nbformat_minor": 5
}
